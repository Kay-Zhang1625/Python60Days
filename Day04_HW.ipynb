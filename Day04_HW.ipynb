{
 "cells": [
  {
   "cell_type": "markdown",
   "metadata": {},
   "source": [
    "# 基礎題\n",
    "\n",
    "## 1. [簡答題] 請問下列程式碼，運算結果分別為何？\n",
    "\n",
    "a = np.array( [20,30,40,50] )\n",
    "b = np.array( [1,2,3,4] ) \n",
    "c = 1\n",
    "d = np.array( [1] )\n",
    "e = np.array( [1,2] )"
   ]
  },
  {
   "cell_type": "code",
   "execution_count": 1,
   "metadata": {},
   "outputs": [],
   "source": [
    "import numpy as np\n",
    "\n",
    "a = np.array( [20,30,40,50] )\n",
    "b = np.array( [1,2,3,4] ) \n",
    "c = 1\n",
    "d = np.array( [1] )\n",
    "e = np.array( [1,2] )"
   ]
  },
  {
   "cell_type": "code",
   "execution_count": 2,
   "metadata": {},
   "outputs": [
    {
     "name": "stdout",
     "output_type": "stream",
     "text": [
      "a + a: [ 40  60  80 100]\n",
      "a + b: [21 32 43 54]\n",
      "a + c: [21 31 41 51]\n",
      "a + d: [21 31 41 51]\n"
     ]
    },
    {
     "ename": "ValueError",
     "evalue": "operands could not be broadcast together with shapes (4,) (2,) ",
     "output_type": "error",
     "traceback": [
      "\u001b[0;31m---------------------------------------------------------------------------\u001b[0m",
      "\u001b[0;31mValueError\u001b[0m                                Traceback (most recent call last)",
      "\u001b[0;32m<ipython-input-2-47cf27f98d59>\u001b[0m in \u001b[0;36m<module>\u001b[0;34m\u001b[0m\n\u001b[1;32m      3\u001b[0m \u001b[0mprint\u001b[0m\u001b[0;34m(\u001b[0m\u001b[0;34m'a + c:'\u001b[0m\u001b[0;34m,\u001b[0m \u001b[0ma\u001b[0m \u001b[0;34m+\u001b[0m \u001b[0mc\u001b[0m\u001b[0;34m)\u001b[0m \u001b[0;31m# [21, 31, 41, 51]\u001b[0m\u001b[0;34m\u001b[0m\u001b[0;34m\u001b[0m\u001b[0m\n\u001b[1;32m      4\u001b[0m \u001b[0mprint\u001b[0m\u001b[0;34m(\u001b[0m\u001b[0;34m'a + d:'\u001b[0m\u001b[0;34m,\u001b[0m \u001b[0ma\u001b[0m \u001b[0;34m+\u001b[0m \u001b[0md\u001b[0m\u001b[0;34m)\u001b[0m \u001b[0;31m# [21, 31, 41, 51]\u001b[0m\u001b[0;34m\u001b[0m\u001b[0;34m\u001b[0m\u001b[0m\n\u001b[0;32m----> 5\u001b[0;31m \u001b[0mprint\u001b[0m\u001b[0;34m(\u001b[0m\u001b[0;34m'a + e:'\u001b[0m\u001b[0;34m,\u001b[0m \u001b[0ma\u001b[0m \u001b[0;34m+\u001b[0m \u001b[0me\u001b[0m\u001b[0;34m)\u001b[0m \u001b[0;31m# 因 a 與 e 陣列的大小不一樣，所以無法進行運算\u001b[0m\u001b[0;34m\u001b[0m\u001b[0;34m\u001b[0m\u001b[0m\n\u001b[0m",
      "\u001b[0;31mValueError\u001b[0m: operands could not be broadcast together with shapes (4,) (2,) "
     ]
    }
   ],
   "source": [
    "print('a + a:', a + a) # [40, 60, 80, 100]\n",
    "print('a + b:', a + b) # [21, 32, 43, 54]\n",
    "print('a + c:', a + c) # [21, 31, 41, 51]\n",
    "print('a + d:', a + d) # [21, 31, 41, 51]\n",
    "print('a + e:', a + e) # 因 a 與 e 陣列的大小不一樣，所以無法進行運算"
   ]
  },
  {
   "cell_type": "markdown",
   "metadata": {},
   "source": [
    "若將 e 由 1X2 改為 2X1 陣列，將可以與 a 進行加法運算。"
   ]
  },
  {
   "cell_type": "code",
   "execution_count": 3,
   "metadata": {},
   "outputs": [
    {
     "name": "stdout",
     "output_type": "stream",
     "text": [
      "a + e_test: [[21 31 41 51]\n",
      " [22 32 42 52]]\n"
     ]
    }
   ],
   "source": [
    "e_test = np.array( [[1], [2]] )\n",
    "print('a + e_test:', a + e_test)"
   ]
  },
  {
   "cell_type": "markdown",
   "metadata": {},
   "source": [
    "\n",
    "## 2. 如何在不用迴圈的情況下計算 (A+B) * (-A/2) ？那用迴圈怎麼做？"
   ]
  },
  {
   "cell_type": "code",
   "execution_count": 4,
   "metadata": {},
   "outputs": [
    {
     "name": "stdout",
     "output_type": "stream",
     "text": [
      "直接算:\n",
      "[-1.5 -1.5 -1.5]\n"
     ]
    }
   ],
   "source": [
    "A = np.ones(3)*1\n",
    "B = np.ones(3)*2\n",
    "\n",
    "print('直接算:')\n",
    "print( (A + B) * (-A / 2) )"
   ]
  },
  {
   "cell_type": "code",
   "execution_count": 5,
   "metadata": {},
   "outputs": [
    {
     "name": "stdout",
     "output_type": "stream",
     "text": [
      "迴圈:\n",
      "[-1.5, -1.5, -1.5]\n"
     ]
    }
   ],
   "source": [
    "print('迴圈:')\n",
    "\n",
    "c = []\n",
    "for i in A:\n",
    "    c.append( (i + i * 2) * (-i / 2) )\n",
    "print(c)"
   ]
  },
  {
   "cell_type": "markdown",
   "metadata": {},
   "source": [
    "\n",
    "## 3. 請問如何計算「1x6 的單位矩陣」和「6x1 的單位矩陣」的內積和外積？"
   ]
  },
  {
   "cell_type": "code",
   "execution_count": 11,
   "metadata": {},
   "outputs": [
    {
     "name": "stdout",
     "output_type": "stream",
     "text": [
      "[[1. 1. 1. 1. 1. 1.]]\n",
      "[[1.]\n",
      " [1.]\n",
      " [1.]\n",
      " [1.]\n",
      " [1.]\n",
      " [1.]]\n",
      "---------------\n",
      "內積: np.dot(A, B) =  [[6.]]\n",
      "外積: np.outer(A, B) =  [[1. 1. 1. 1. 1. 1.]\n",
      " [1. 1. 1. 1. 1. 1.]\n",
      " [1. 1. 1. 1. 1. 1.]\n",
      " [1. 1. 1. 1. 1. 1.]\n",
      " [1. 1. 1. 1. 1. 1.]\n",
      " [1. 1. 1. 1. 1. 1.]]\n"
     ]
    }
   ],
   "source": [
    "A = np.ones((1,6))\n",
    "B = np.ones((6,1))\n",
    "print(A)\n",
    "print(B)\n",
    "\n",
    "print('---------------')\n",
    "\n",
    "print('內積: np.dot(A, B) = ', np.dot(A, B))\n",
    "print('外積: np.outer(A, B) = ', np.outer(A, B))"
   ]
  }
 ],
 "metadata": {
  "kernelspec": {
   "display_name": "Python 3",
   "language": "python",
   "name": "python3"
  },
  "language_info": {
   "codemirror_mode": {
    "name": "ipython",
    "version": 3
   },
   "file_extension": ".py",
   "mimetype": "text/x-python",
   "name": "python",
   "nbconvert_exporter": "python",
   "pygments_lexer": "ipython3",
   "version": "3.8.3"
  }
 },
 "nbformat": 4,
 "nbformat_minor": 4
}
