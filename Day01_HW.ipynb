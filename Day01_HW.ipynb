{
 "cells": [
  {
   "cell_type": "code",
   "execution_count": 1,
   "metadata": {},
   "outputs": [],
   "source": [
    "import numpy as np"
   ]
  },
  {
   "cell_type": "markdown",
   "metadata": {},
   "source": [
    "---\n",
    "\n",
    "\n",
    "# 基礎題\n",
    "\n",
    "## 1. [簡答題] 請問下列兩種將 Array 轉換成 List 的方式有何不同？\n",
    "```\n",
    "print('list(a): ', list(a))\n",
    "print('tolist(): ', a.tolist())\n",
    "```"
   ]
  },
  {
   "cell_type": "code",
   "execution_count": 5,
   "metadata": {},
   "outputs": [
    {
     "name": "stdout",
     "output_type": "stream",
     "text": [
      "list(a): [array([0, 1, 2, 3, 4]), array([5, 6, 7, 8, 9]), array([10, 11, 12, 13, 14])]\n",
      "<class 'list'>\n",
      "<class 'numpy.ndarray'>\n",
      "\n",
      "tolist(): [[0, 1, 2, 3, 4], [5, 6, 7, 8, 9], [10, 11, 12, 13, 14]]\n",
      "<class 'list'>\n",
      "<class 'list'>\n"
     ]
    }
   ],
   "source": [
    "a = np.arange(15).reshape(3, 5)\n",
    "print('list(a):', list(a))\n",
    "print(type(list(a)))\n",
    "print(type(list(a)[0]))\n",
    "print('')\n",
    "print('tolist():', a.tolist())\n",
    "print(type(a.tolist()))\n",
    "print(type(a.tolist()[0]))"
   ]
  },
  {
   "cell_type": "markdown",
   "metadata": {},
   "source": [
    "list(a) 與 a.tolist() 的輸出皆為 list 型態。\n",
    "list(a) 只在第一個維度進行迭代輸出一個列表，而 a.tolist() 將陣列全部轉換為列表型態，可以看到第二維度也是 list。"
   ]
  },
  {
   "cell_type": "markdown",
   "metadata": {},
   "source": [
    "\n",
    "\n",
    "## 2. 請試著在程式中印出以下三個 NdArray 的屬性並且解釋結果？（屬性：ndim、shape、size、dtype、itemsize、length、type）\n",
    "```\n",
    "a = np.random.randint(10, size=6) \n",
    "b = np.random.randint(10, size=(3,4)) \n",
    "c = np.random.randint(10, size=(2,3,2)) \n",
    "```"
   ]
  },
  {
   "cell_type": "code",
   "execution_count": 6,
   "metadata": {},
   "outputs": [
    {
     "name": "stdout",
     "output_type": "stream",
     "text": [
      "[0 6 4 3 7 9]\n",
      "ndim: 1\n",
      "shape: (6,)\n",
      "size: 6\n",
      "dtype: int64\n",
      "itemsize: 8\n",
      "length: 6\n",
      "type: <class 'numpy.ndarray'>\n"
     ]
    }
   ],
   "source": [
    "a = np.random.randint(10, size=6)\n",
    "print(a)\n",
    "# ndim、shape、size、dtype、itemsize、length、type\n",
    "print('ndim:',a.ndim) # 1\n",
    "print('shape:', a.shape) # (6,)\n",
    "print('size:', a.size) # 6\n",
    "print('dtype:', a.dtype) # int64\n",
    "print('itemsize:', a.itemsize) # 8\n",
    "print('length:', len(a)) # 6\n",
    "print('type:', type(a)) # ndarray"
   ]
  },
  {
   "cell_type": "code",
   "execution_count": 7,
   "metadata": {},
   "outputs": [
    {
     "name": "stdout",
     "output_type": "stream",
     "text": [
      "[[1 5 5 7]\n",
      " [6 7 0 8]\n",
      " [3 6 4 1]]\n",
      "ndim: 2\n",
      "shape: (3, 4)\n",
      "size: 12\n",
      "dtype: int64\n",
      "length: 3\n",
      "type: <class 'numpy.ndarray'>\n"
     ]
    }
   ],
   "source": [
    "b = np.random.randint(10, size=(3,4))\n",
    "print(b)\n",
    "# ndim、shape、size、dtype、itemsize、length、type\n",
    "print('ndim:', b.ndim) # 2\n",
    "print('shape:', b.shape) # (3,4)\n",
    "print('size:', b.size) # 12\n",
    "print('dtype:', b.dtype) # int64\n",
    "print('length:', len(b)) # 3\n",
    "print('type:', type(b)) # ndarray"
   ]
  },
  {
   "cell_type": "code",
   "execution_count": 8,
   "metadata": {},
   "outputs": [
    {
     "name": "stdout",
     "output_type": "stream",
     "text": [
      "[[[3 0]\n",
      "  [7 2]\n",
      "  [8 2]]\n",
      "\n",
      " [[0 5]\n",
      "  [5 6]\n",
      "  [2 4]]]\n",
      "ndim: 3\n",
      "shape: (2, 3, 2)\n",
      "size: 12\n",
      "dtype: int64\n",
      "length: 2\n",
      "type: <class 'numpy.ndarray'>\n"
     ]
    }
   ],
   "source": [
    "c = np.random.randint(10, size=(2,3,2))\n",
    "print(c)\n",
    "# ndim、shape、size、dtype、itemsize、length、type\n",
    "print('ndim:', c.ndim) # 3\n",
    "print('shape:', c.shape) # (2,3,2)\n",
    "print('size:', c.size) # 12\n",
    "print('dtype:', c.dtype) # int64\n",
    "print('length:', len(c)) # 2\n",
    "print('type:', type(c)) # ndarray"
   ]
  },
  {
   "cell_type": "markdown",
   "metadata": {},
   "source": [
    "\n",
    "\n",
    "## 3. 如何利用 list(...) 實現 a.tolist() 的效果？試著用程式實作。"
   ]
  },
  {
   "cell_type": "code",
   "execution_count": 9,
   "metadata": {},
   "outputs": [
    {
     "name": "stdout",
     "output_type": "stream",
     "text": [
      "a.tolist(): [8, 7, 7, 7, 6, 2]\n",
      "list(a): [8, 7, 7, 7, 6, 2]\n",
      "\n",
      "b.tolist(): [[1, 8, 9, 3], [1, 3, 7, 6], [8, 4, 2, 9]]\n",
      "list(b): [array([1, 8, 9, 3]), array([1, 3, 7, 6]), array([8, 4, 2, 9])]\n",
      "\n",
      "c.tolist(): [[[7, 8], [1, 7], [1, 5]], [[3, 4], [2, 2], [2, 3]]]\n",
      "list(c): [array([[7, 8],\n",
      "       [1, 7],\n",
      "       [1, 5]]), array([[3, 4],\n",
      "       [2, 2],\n",
      "       [2, 3]])]\n"
     ]
    }
   ],
   "source": [
    "a = np.random.randint(10, size=6) \n",
    "\n",
    "print('a.tolist():', a.tolist())\n",
    "print('list(a):', list(a))\n",
    "\n",
    "print('')\n",
    "\n",
    "b = np.random.randint(10, size=(3,4)) \n",
    "\n",
    "print('b.tolist():', b.tolist())\n",
    "print('list(b):', list(b))\n",
    "\n",
    "print('')\n",
    "\n",
    "c = np.random.randint(10, size=(2,3,2)) \n",
    "\n",
    "print('c.tolist():', c.tolist())\n",
    "print('list(c):', list(c))"
   ]
  },
  {
   "cell_type": "code",
   "execution_count": 10,
   "metadata": {},
   "outputs": [
    {
     "name": "stdout",
     "output_type": "stream",
     "text": [
      "list(a) -> a.tolist: [8, 7, 7, 7, 6, 2]\n",
      "list(b) -> b.tolist: [[1, 8, 9, 3], [1, 3, 7, 6], [8, 4, 2, 9]]\n",
      "list(c) -> c.tolist: [[[7, 8], [1, 7], [1, 5]], [[3, 4], [2, 2], [2, 3]]]\n"
     ]
    }
   ],
   "source": [
    "def list(iterable):\n",
    "    return iterable.tolist()\n",
    "\n",
    "print('list(a) -> a.tolist:', list(a))\n",
    "print('list(b) -> b.tolist:', list(b))\n",
    "print('list(c) -> c.tolist:', list(c))"
   ]
  },
  {
   "cell_type": "markdown",
   "metadata": {},
   "source": [
    "---\n",
    "\n",
    "\n",
    "# 延伸題\n",
    "題目:\n",
    "1.生成一個等差數列，首數為0，尾數為20，公差為1的數列。\n",
    "2.呈上題，將以上數列取出偶數。\n",
    "3.呈1題，將數列取出3的倍數。"
   ]
  },
  {
   "cell_type": "code",
   "execution_count": 11,
   "metadata": {},
   "outputs": [
    {
     "name": "stdout",
     "output_type": "stream",
     "text": [
      "[ 0  1  2  3  4  5  6  7  8  9 10 11 12 13 14 15 16 17 18 19 20]\n",
      "\n",
      "[ 0  2  4  6  8 10 12 14 16 18 20]\n",
      "\n",
      "[ 0  3  6  9 12 15 18]\n"
     ]
    }
   ],
   "source": [
    "a = np.arange(21)\n",
    "print (a)\n",
    "\n",
    "print('')\n",
    "\n",
    "b = a[0:21:2]\n",
    "print (b)\n",
    "\n",
    "print('')\n",
    "\n",
    "c = a[0:21:3]\n",
    "print (c)"
   ]
  },
  {
   "cell_type": "markdown",
   "metadata": {},
   "source": []
  }
 ],
 "metadata": {
  "kernelspec": {
   "display_name": "Python 3",
   "language": "python",
   "name": "python3"
  },
  "language_info": {
   "codemirror_mode": {
    "name": "ipython",
    "version": 3
   },
   "file_extension": ".py",
   "mimetype": "text/x-python",
   "name": "python",
   "nbconvert_exporter": "python",
   "pygments_lexer": "ipython3",
   "version": "3.8.3"
  }
 },
 "nbformat": 4,
 "nbformat_minor": 4
}
